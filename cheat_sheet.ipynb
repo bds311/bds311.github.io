{
 "cells": [
  {
   "cell_type": "markdown",
   "id": "bf784d2e-f36a-4b0b-a504-287ac74fed50",
   "metadata": {},
   "source": [
    "# Cheat Sheet\n",
    "\n",
    "## Week 0\n",
    "\n",
    "### Print function:"
   ]
  },
  {
   "cell_type": "code",
   "execution_count": 1,
   "id": "6342b624-a1a4-4023-96fd-85eac1080c48",
   "metadata": {},
   "outputs": [
    {
     "name": "stdout",
     "output_type": "stream",
     "text": [
      "7\n",
      "string to print\n",
      "First line \n",
      "Second line\n"
     ]
    }
   ],
   "source": [
    "variable_to_print = 7\n",
    "\n",
    "print(variable_to_print)\n",
    "\n",
    "print(\"string to print\")\n",
    "\n",
    "print(\"First line \\nSecond line\")"
   ]
  },
  {
   "cell_type": "markdown",
   "id": "c5d07f99-d564-4272-8ff7-d1a309c6e95e",
   "metadata": {},
   "source": [
    "### Arithmetic operators:"
   ]
  },
  {
   "cell_type": "code",
   "execution_count": 4,
   "id": "613bfddf-eb5d-45db-8e70-3ff2f2a39645",
   "metadata": {},
   "outputs": [
    {
     "data": {
      "text/plain": [
       "26"
      ]
     },
     "execution_count": 4,
     "metadata": {},
     "output_type": "execute_result"
    }
   ],
   "source": [
    "1+2\n",
    "1-2\n",
    "1/2\n",
    "13*2"
   ]
  },
  {
   "cell_type": "markdown",
   "id": "d96842f7-a765-45ec-94f9-76c95f31f485",
   "metadata": {},
   "source": [
    "### Assigning variables:"
   ]
  },
  {
   "cell_type": "code",
   "execution_count": 3,
   "id": "c437e52d-9311-48ef-a6f6-1001f83e9bc9",
   "metadata": {},
   "outputs": [
    {
     "name": "stdout",
     "output_type": "stream",
     "text": [
      "3.1415929203539825\n",
      "6\n"
     ]
    }
   ],
   "source": [
    "close_to_pi = 355/113\n",
    "print(close_to_pi)\n",
    "\n",
    "x = 2\n",
    "y = 3\n",
    "z = x * y\n",
    "print(z)"
   ]
  },
  {
   "cell_type": "markdown",
   "id": "bfcddaaf-41f0-4225-b8e3-cbd473fc38b2",
   "metadata": {},
   "source": [
    "### Data Type: Strings\n",
    "A string is a series of characters bounded by 'single' or \"double\" quotations, used interchangeably. \n",
    "If you are using an apostrophe or single quote inside a string, you can bound it by double quotations to still identify it as a string."
   ]
  },
  {
   "cell_type": "code",
   "execution_count": 5,
   "id": "706862e5-bfe5-4f3f-9ab1-719087ebb7eb",
   "metadata": {},
   "outputs": [
    {
     "ename": "SyntaxError",
     "evalue": "invalid syntax (1829453887.py, line 3)",
     "output_type": "error",
     "traceback": [
      "\u001b[0;36m  Input \u001b[0;32mIn [5]\u001b[0;36m\u001b[0m\n\u001b[0;31m    error_string = 'grandma's recipes'\u001b[0m\n\u001b[0m                            ^\u001b[0m\n\u001b[0;31mSyntaxError\u001b[0m\u001b[0;31m:\u001b[0m invalid syntax\n"
     ]
    }
   ],
   "source": [
    "my_string = 'several characters'\n",
    "my_other_string = \"example\"\n",
    "error_string = 'grandma's recipes'\n",
    "fixed_string = \"grandma's recipes\"\n"
   ]
  },
  {
   "cell_type": "markdown",
   "id": "4c91bc4e-99d9-4671-b929-f5ba7e8ca2ca",
   "metadata": {},
   "source": [
    "You can use some arithmetic operators on strings:"
   ]
  },
  {
   "cell_type": "code",
   "execution_count": 10,
   "id": "6454673a-71d7-4677-a9f6-bceea931a77b",
   "metadata": {},
   "outputs": [
    {
     "name": "stdout",
     "output_type": "stream",
     "text": [
      "ATGATGATG\n",
      "ATGATG\n",
      "A\n"
     ]
    }
   ],
   "source": [
    "oligo = \"ATG\"\n",
    "print(oligo*3)\n",
    "print(oligo + oligo)"
   ]
  },
  {
   "cell_type": "markdown",
   "id": "e3c7b659-fe52-4ed4-aa3c-fab02517258f",
   "metadata": {},
   "source": [
    "## Week 1\n",
    "\n",
    "### Useful UNIX commands:\n",
    "\n",
    "- pwd = print working directory (where am I now?)\n",
    "- ls = list (what's in this directory?)\n",
    "    - ls -lah = list all files in human-readable form\n",
    "- cd (destination) = change directory to an absolute or relative destination\n",
    "    - cd ~ = go to user's home directory\n",
    "    - cd .. = move up one directory\n",
    "    - ./ = 'here'\n",
    "- cp (file to be copied) (destination) = copy file to a destination\n",
    "    - cp -r (directory to be copied) (destination) = copy directory to a destination\n",
    "- mkdir (name of new directory) = make a new directory inside your current directory\n",
    "- mv (file to be moved) (destination) = move file to new destination\n",
    "    - mv -r (directory to be moved) (destination) = move directory to a destination\n",
    "    - Renaming a file or directory: mv the file or directory to its current destination\n",
    "- rm (file to be removed) = delete a file\n",
    "    - rm -r (directory to be removed) = delete a directory\n",
    "    - THIS IS FOREVER, BE SURE YOU WANT TO rm WHATEVER YOU ARE rm-ING!!\n",
    "- nano (filename) - opens nano text editor on the file specified. If file doesn't exist, nano will create it\n",
    "    - Use shortcut commands listed at bottom of nano screen to save file or exit\n",
    "- * = wildcard, represents any number of any characters\n",
    "    - *.txt = any file ending with .txt\n",
    "    - abc* = any file that starts with abc\n",
    "    - *7* = any file that has a seven somewhere in the middle\n",
    "- ? = represents any one character\n",
    "    - file?.txt = any file that starts with \"file\", has one character of any type, and ends with \".txt\"\n",
    "- wc = word count\n",
    "    - wc -l = count number of lines\n",
    "    - check out wc -h for all available options\n",
    "- grep = search a file for a patter\n",
    "    - grep is very detailed, check out grep -h for usage\n",
    "- | = pipe, take the output of the last operation and use it as the input for the next operation\n",
    "    - grep \"lily\" flowers.txt | wc -l = searches for occurrences of \"lily\" in the flowers.txt file and returns the number of lines\n",
    "    "
   ]
  },
  {
   "cell_type": "markdown",
   "id": "1657a68c-948f-4c2c-9a27-b34a2e56f977",
   "metadata": {},
   "source": [
    "## Week 2\n",
    "\n",
    "### Data types:"
   ]
  },
  {
   "cell_type": "code",
   "execution_count": 12,
   "id": "c4b0a26c-216b-47b2-b233-e99535ae30e0",
   "metadata": {},
   "outputs": [
    {
     "name": "stdout",
     "output_type": "stream",
     "text": [
      "<class 'str'>\n",
      "<class 'int'>\n",
      "<class 'float'>\n",
      "<class 'list'>\n"
     ]
    }
   ],
   "source": [
    "my_string = 'string'\n",
    "my_int = 7\n",
    "my_float = 7.0\n",
    "my_list = [7, \"petal\", \"sepal\", 5.8]\n",
    "\n",
    "print(type(my_string))\n",
    "print(type(my_int))\n",
    "print(type(my_float))\n",
    "print(type(my_list))\n"
   ]
  },
  {
   "cell_type": "markdown",
   "id": "6b350664-fcde-4c37-92bf-96d359142b39",
   "metadata": {},
   "source": [
    "### Numpy arrays:"
   ]
  },
  {
   "cell_type": "code",
   "execution_count": 14,
   "id": "fffd1d74-7cf7-4a8f-9f3c-f3f1f4a9003e",
   "metadata": {},
   "outputs": [
    {
     "name": "stdout",
     "output_type": "stream",
     "text": [
      "[1 1 2 3 5 8]\n",
      "<class 'numpy.ndarray'>\n"
     ]
    }
   ],
   "source": [
    "import numpy as np\n",
    "array = np.array([1,1,2,3,5,8])\n",
    "print(array)\n",
    "print(type(array))"
   ]
  },
  {
   "cell_type": "markdown",
   "id": "f195cabf-c9c6-4253-98fb-2a7aa5673744",
   "metadata": {},
   "source": [
    "You can apply operations across an array:"
   ]
  },
  {
   "cell_type": "code",
   "execution_count": 15,
   "id": "017bae86-9af2-4794-9420-a5dfa4a4e05d",
   "metadata": {},
   "outputs": [
    {
     "name": "stdout",
     "output_type": "stream",
     "text": [
      "[2 2 3 4 6 9]\n"
     ]
    }
   ],
   "source": [
    "print(array + 1)"
   ]
  },
  {
   "cell_type": "markdown",
   "id": "d7c6d86d-d9a7-4c0d-850f-ff7d54679f8e",
   "metadata": {},
   "source": [
    "### Indexing:"
   ]
  },
  {
   "cell_type": "markdown",
   "id": "efdea796-8fca-46e9-8a96-8ef11394e55c",
   "metadata": {},
   "source": [
    "Use square brackets [ ] after a list or array name to indicate which value in the list or array you want to indicate:"
   ]
  },
  {
   "cell_type": "code",
   "execution_count": 53,
   "id": "f2b90930-6879-4a25-9c3b-3d2fe88ce053",
   "metadata": {},
   "outputs": [
    {
     "data": {
      "text/plain": [
       "1"
      ]
     },
     "execution_count": 53,
     "metadata": {},
     "output_type": "execute_result"
    }
   ],
   "source": [
    "array[0]"
   ]
  },
  {
   "cell_type": "code",
   "execution_count": 55,
   "id": "52603a94-123b-4766-8a5a-680d34389804",
   "metadata": {},
   "outputs": [
    {
     "data": {
      "text/plain": [
       "9"
      ]
     },
     "execution_count": 55,
     "metadata": {},
     "output_type": "execute_result"
    }
   ],
   "source": [
    "array_2D = np.array([[1,1,2,3,5,8],[4,6,6,1,9,8]])\n",
    "array_2D[1,4]"
   ]
  },
  {
   "cell_type": "code",
   "execution_count": 56,
   "id": "42185a89-747f-4d2c-bb9e-87fc10337e5a",
   "metadata": {},
   "outputs": [
    {
     "data": {
      "text/plain": [
       "'sepal'"
      ]
     },
     "execution_count": 56,
     "metadata": {},
     "output_type": "execute_result"
    }
   ],
   "source": [
    "my_list[2]"
   ]
  },
  {
   "cell_type": "markdown",
   "id": "c5040a32-faa8-44d3-b2fe-cf97b75c5915",
   "metadata": {},
   "source": [
    "Use negatives to index off the end of the list or array:"
   ]
  },
  {
   "cell_type": "code",
   "execution_count": 57,
   "id": "3f5e9008-f32a-4979-8180-87bd820f6b46",
   "metadata": {},
   "outputs": [
    {
     "data": {
      "text/plain": [
       "8"
      ]
     },
     "execution_count": 57,
     "metadata": {},
     "output_type": "execute_result"
    }
   ],
   "source": [
    "array[-1]"
   ]
  },
  {
   "cell_type": "markdown",
   "id": "5052e9a2-cac5-47a8-8cd6-d45b5113eea5",
   "metadata": {},
   "source": [
    "### Slicing:\n",
    "Use a colon `[x:y]` to indicate \"from x up to but not including y\"\n",
    "Use two colons `[x:y:z]` to indicate \"from x up to but not including y, counting by z\"\n",
    "Omit the x and/or y values to indicate the beginning or end:\n",
    "- `[:y]` = \"from the beginning up to but not including y\"\n",
    "- `[x:]` = \"from x to the end\"\n",
    "- `[:]` = \"the whole thing\"\n",
    "- `[::-1]` = \"the whole thing in reverse (counting by -1)\"\n"
   ]
  },
  {
   "cell_type": "code",
   "execution_count": 15,
   "id": "2dbcbd91-10be-40fb-b98b-d4ff90ebc7cc",
   "metadata": {},
   "outputs": [
    {
     "name": "stdout",
     "output_type": "stream",
     "text": [
      "[1 2 3 5]\n",
      "[1 2 5]\n",
      "[8 5 3 2 1 1]\n"
     ]
    }
   ],
   "source": [
    "import numpy as np\n",
    "array = np.array([1,1,2,3,5,8])\n",
    "array_slice = array[1:5]\n",
    "print(array_slice)\n",
    "print(array[0:6:2]) # prints every other value\n",
    "print(array[::-1]) # prints the array in reverse"
   ]
  },
  {
   "cell_type": "markdown",
   "id": "3986dc31-b01f-4861-b17c-cb400996f4d9",
   "metadata": {},
   "source": [
    "2D arrays are sliced just as you'd indicate a Cartesian position with (x,y)\n"
   ]
  },
  {
   "cell_type": "code",
   "execution_count": 24,
   "id": "b5dd1b94-a852-4946-8ff3-276a84da0c28",
   "metadata": {},
   "outputs": [
    {
     "name": "stdout",
     "output_type": "stream",
     "text": [
      "ex1: [6 1 9]\n",
      "ex2: [[1 1]\n",
      " [4 6]]\n"
     ]
    }
   ],
   "source": [
    "import numpy as np\n",
    "array_2D = np.array([[1,1,2,3,5,8],[4,6,6,1,9,8]])\n",
    "print(\"ex1:\", array_2D[1,2:5]) # Row [1], Columns [2:5]\n",
    "print(\"ex2:\", array_2D[:,:2]) # All rows, the first two columns"
   ]
  },
  {
   "cell_type": "markdown",
   "id": "f95f1064-b236-4e4a-bdd5-ddb00ea2215a",
   "metadata": {},
   "source": [
    "## Week 3\n",
    "\n",
    "- Read in data from a .csv file (comma separated variables)"
   ]
  },
  {
   "cell_type": "markdown",
   "id": "14536bbc-1315-4e10-ba01-be2852158ff2",
   "metadata": {},
   "source": [
    "`import numpy as np`<br>\n",
    "`data = np.loadtxt('path_to_csv/csv_name.csv', delimiter = ',')`"
   ]
  },
  {
   "cell_type": "markdown",
   "id": "1e78a816-a5de-496a-add9-1c3efc9f62e0",
   "metadata": {},
   "source": [
    "### Generate heatmap:"
   ]
  },
  {
   "cell_type": "markdown",
   "id": "f59341ab-6b1d-45b0-a180-02ae1a29e77b",
   "metadata": {},
   "source": [
    "`import matplotlib.pyplot as plt`<br>\n",
    "`plt.imshow(data)`<br>\n",
    "`plt.colorbar()`<br>\n",
    "`plt.ylabel('y label')`<br>\n",
    "`plt.xlabel('x label')`<br>"
   ]
  },
  {
   "cell_type": "markdown",
   "id": "29377e00-a4e5-4102-8324-53a1c2f0e047",
   "metadata": {},
   "source": [
    "### np.arange(x,y,z)\n",
    "Produces a range from value x up to but not including y, counting by z\n",
    "\n"
   ]
  },
  {
   "cell_type": "code",
   "execution_count": 8,
   "id": "fc22612a-ebe4-4cbc-bd03-cf8d67cd28af",
   "metadata": {},
   "outputs": [
    {
     "name": "stdout",
     "output_type": "stream",
     "text": [
      "[ 2  3  4  5  6  7  8  9 10 11 12 13 14]\n",
      "[0 2 4 6 8]\n",
      "[5 4 3 2]\n"
     ]
    }
   ],
   "source": [
    "import numpy as np\n",
    "print(np.arange(2,15))\n",
    "print(np.arange(0,10,2))\n",
    "print(np.arange(5,1,-1))\n"
   ]
  },
  {
   "cell_type": "markdown",
   "id": "e05b3a9b-b5b0-46a8-8492-74b9138c2a75",
   "metadata": {},
   "source": [
    "### np.mean()\n",
    "Takes the mean of an array or across the rows or column\n",
    "`np.mean(array)` returns the mean of all values in the array\n",
    "`np.mean(array, axis = 0)` takes the mean of each column\n",
    "`np.mean(array, axis = 1)` takes the mean of each row\n",
    "\n",
    "Note: don't forget to check the shape of your output array to be sure you took the mean of the dimension you wanted.\n",
    "\n",
    "**np.max()**, **np.min()**, and **np.sum()** function in the same way"
   ]
  },
  {
   "cell_type": "markdown",
   "id": "f2b13e2d-653a-4834-8f0d-a1283ca0d1c5",
   "metadata": {},
   "source": [
    "### np.zeros(n), np.ones(n)\n",
    "\n",
    "Create an array of zeros or ones of length n"
   ]
  },
  {
   "cell_type": "code",
   "execution_count": 25,
   "id": "0e9c14a3-23ce-426b-9f32-429af46728cc",
   "metadata": {},
   "outputs": [
    {
     "name": "stdout",
     "output_type": "stream",
     "text": [
      "[0. 0. 0. 0. 0. 0. 0.]\n",
      "[1. 1. 1. 1. 1.]\n",
      "[4. 4. 4. 4. 4.]\n"
     ]
    }
   ],
   "source": [
    "import numpy as np\n",
    "\n",
    "print(np.zeros(7))\n",
    "print(np.ones(5))\n",
    "print(np.ones(5)+3)"
   ]
  },
  {
   "cell_type": "markdown",
   "id": "1dbf500e-0b8e-4e94-9210-62c2cb34acac",
   "metadata": {},
   "source": [
    "### Plotting: Scatter plots, etc.\n",
    "\n",
    "- Create a scatter plot: <br><br>\n",
    "    `plt.scatter(x, y, color = , marker = , etc.)`<br><br>"
   ]
  },
  {
   "cell_type": "markdown",
   "id": "3493bb7e-48e5-4903-87d9-a1b3134a07cb",
   "metadata": {},
   "source": [
    "### For-loops\n",
    "Structure:<br>\n",
    "`for <variable> in <iterable object>:`<br>\n",
    "`    do action`\n",
    "\n",
    "Anything indented will be contained in the loop\n"
   ]
  },
  {
   "cell_type": "code",
   "execution_count": 27,
   "id": "f01d553b-2fab-4c2e-b0cc-997c6eed1183",
   "metadata": {},
   "outputs": [
    {
     "name": "stdout",
     "output_type": "stream",
     "text": [
      "1\n",
      "3\n",
      "5\n",
      "7\n"
     ]
    }
   ],
   "source": [
    "odds=[1,3,5,7]    # Define list (iterable)\n",
    "for num in odds:  # For each variable (called num) in odds, do:\n",
    "    print(num)    # Action (print the variable)"
   ]
  },
  {
   "cell_type": "code",
   "execution_count": 28,
   "id": "e1bba3fd-a0a4-4cd8-ab90-58fd1a58969f",
   "metadata": {},
   "outputs": [
    {
     "name": "stdout",
     "output_type": "stream",
     "text": [
      "1\n",
      "3\n",
      "5\n",
      "7\n"
     ]
    }
   ],
   "source": [
    "odds=[1,3,5,7]    \n",
    "for anything in odds:  # the iterable variable can be called anything you want\n",
    "    print(anything) "
   ]
  },
  {
   "cell_type": "code",
   "execution_count": 29,
   "id": "e1b0316d-8b20-43aa-ab61-0c8e0eb656f9",
   "metadata": {},
   "outputs": [
    {
     "name": "stdout",
     "output_type": "stream",
     "text": [
      "loop\n",
      "loop\n",
      "loop\n",
      "loop\n"
     ]
    }
   ],
   "source": [
    "odds=[1,3,5,7]    \n",
    "for num in odds:  \n",
    "    print('loop')   # The action doesn't need to necessarily use the variable.\n",
    "                    # in this case, the action (print('loop')) is performed as many times as there are variables in the list"
   ]
  },
  {
   "cell_type": "markdown",
   "id": "8748ff39-bc97-48e7-9563-f82ee55bb73b",
   "metadata": {},
   "source": [
    "### Appending to lists:\n",
    "  \n",
    "\n"
   ]
  },
  {
   "cell_type": "code",
   "execution_count": 39,
   "id": "b2b30bf3-13ac-4be2-a848-e7e2fdb85ccf",
   "metadata": {},
   "outputs": [
    {
     "name": "stdout",
     "output_type": "stream",
     "text": [
      "[1, 3, 5, 7, 9]\n"
     ]
    }
   ],
   "source": [
    "odds=[1,3,5,7]    \n",
    "more_odds = odds + [9]\n",
    "print(more_odds)"
   ]
  },
  {
   "cell_type": "code",
   "execution_count": 40,
   "id": "70575fe3-6466-42b8-84f7-e2b72af9ca80",
   "metadata": {},
   "outputs": [
    {
     "name": "stdout",
     "output_type": "stream",
     "text": [
      "[1, 3, 5, 7, 9, 11]\n"
     ]
    }
   ],
   "source": [
    "more_odds.append(11) # Note you don't have to assign more_odds.append() to a new variable, more_odds is automatically updated with .append()\n",
    "print(more_odds)     # In fact, if you run this cell a few more times, it will continue to append "
   ]
  },
  {
   "cell_type": "markdown",
   "id": "65ab34e3-1bba-4bff-89bc-9d8d322ba3ea",
   "metadata": {},
   "source": [
    "### Creating a counter for a for-loop:\n"
   ]
  },
  {
   "cell_type": "code",
   "execution_count": 42,
   "id": "a914171b-6f89-4b10-91c5-1a29264a40bd",
   "metadata": {},
   "outputs": [
    {
     "name": "stdout",
     "output_type": "stream",
     "text": [
      "loop  0\n",
      "loop  1\n",
      "loop  2\n",
      "loop  3\n",
      "loop  4\n"
     ]
    }
   ],
   "source": [
    "counter = 0\n",
    "for i in range(0,5):\n",
    "    print('loop ', counter)\n",
    "    counter += 1              # This notation += is shorthand for \"counter = counter + 1\"\n",
    "    "
   ]
  },
  {
   "cell_type": "markdown",
   "id": "0a4e110b-acb0-45b8-8e83-fa9cc881d6be",
   "metadata": {},
   "source": [
    "### enumerate():\n",
    "\n",
    "`enumerate()` automatically creates a counter by generating an 'enumerate object' of the format `[(0, item[0]), etc.]`"
   ]
  },
  {
   "cell_type": "code",
   "execution_count": 45,
   "id": "025d46cb-0ba4-4676-827b-7f239edf50ff",
   "metadata": {},
   "outputs": [
    {
     "name": "stdout",
     "output_type": "stream",
     "text": [
      "[(0, 'alpha'), (1, 'bravo'), (2, 'charlie'), (3, 'delta'), (4, 'echo')]\n"
     ]
    }
   ],
   "source": [
    "my_list = ['alpha', 'bravo', 'charlie', 'delta', 'echo']\n",
    "print(list(enumerate(my_list)))"
   ]
  },
  {
   "cell_type": "markdown",
   "id": "a437e441-7811-49b9-861c-d6929c475e94",
   "metadata": {},
   "source": [
    "You can assign the counter value and the list value to two variables so that they are both callable in the for-loop:\n"
   ]
  },
  {
   "cell_type": "code",
   "execution_count": 47,
   "id": "d49fc25e-2a4f-4dbe-bbf6-45ce431d7b03",
   "metadata": {},
   "outputs": [
    {
     "name": "stdout",
     "output_type": "stream",
     "text": [
      "0\n",
      "alpha\n",
      "1\n",
      "bravo\n",
      "2\n",
      "charlie\n",
      "3\n",
      "delta\n",
      "4\n",
      "echo\n"
     ]
    }
   ],
   "source": [
    "for counter, list_value in enumerate(my_list):\n",
    "    print(counter)\n",
    "    print(list_value)"
   ]
  },
  {
   "cell_type": "markdown",
   "id": "fb33a09e-d249-48c2-ba11-5edc0d029e9c",
   "metadata": {},
   "source": [
    "## Week 4\n",
    "\n",
    "### Defining Functions"
   ]
  },
  {
   "cell_type": "code",
   "execution_count": 4,
   "id": "5ccb1660-ce0b-4f4e-ba17-8728aa46f56b",
   "metadata": {},
   "outputs": [
    {
     "name": "stdout",
     "output_type": "stream",
     "text": [
      "This is the function printing: A string\n",
      "A string: this is the returned value\n"
     ]
    }
   ],
   "source": [
    "def my_function(input_string):\n",
    "    print('This is the function printing:', input_string)\n",
    "    return input_string + ': this is the returned value'\n",
    "\n",
    "print(my_function('A string'))"
   ]
  },
  {
   "cell_type": "markdown",
   "id": "28295211-02f9-4686-b376-9824b3064c4f",
   "metadata": {},
   "source": [
    "The function above has these parts:\n",
    "- definition statement: def + the name of the function + any number of arguments/parameters taken in by the function\n",
    "    - The arguments/parameters are the variables that will be used by the function, and make it so that you can run the function with different input values\n",
    "- the action: in this case it is a simple print call, but you can make the action as complex as you need\n",
    "- the return statement: this identifies the value that will be output by the function\n",
    "    - any variables defined within a function will not be available outside the function - only the returned variable will be output. \n",
    "    \n",
    "\n",
    "Here's a more complex example:"
   ]
  },
  {
   "cell_type": "code",
   "execution_count": 5,
   "id": "4bd15e0f-0ee5-49ec-a7bd-f0746d469baf",
   "metadata": {},
   "outputs": [
    {
     "name": "stdout",
     "output_type": "stream",
     "text": [
      "[14, 17, 20]\n"
     ]
    }
   ],
   "source": [
    "def my_other_function(x, y, list_of_ints):\n",
    "    num_list = []\n",
    "    for i in list_of_ints:\n",
    "        num = x + y*i\n",
    "        num_list.append(num)\n",
    "    return num_list\n",
    "\n",
    "output_value = my_other_function(2, 3, [4,5,6])\n",
    "print(output_value)\n",
    "    \n",
    "    "
   ]
  },
  {
   "cell_type": "markdown",
   "id": "b278cfdf-e175-4dea-8fe1-6196c0de38fb",
   "metadata": {},
   "source": [
    "- This function takes in three arguments: `x`, a number, `y`, another number, and `list_of_ints`, a list of integers. \n",
    "- an empty list, `num_list`, is defined, which will be a place to store the values the function generates\n",
    "- a for-loop takes each value in the `list_of_ints` and includes them in the equation `x + y*(current_variable_in_list_of_ints)`, and assigns that value to the variable `num`\n",
    "- `num` is the added to the list `num_list`\n",
    "- the function returns `num_list` so that when the function is called and assigned to `output_value`, the variable `output_value` now contains the returned `num_list` from `my_other_function`\n"
   ]
  },
  {
   "cell_type": "markdown",
   "id": "b4561fa2-fa88-4f8f-b739-86549c437c37",
   "metadata": {},
   "source": [
    "### Nested for-loops\n",
    "If you write a for-loop within another for-loop, the interior for-loop will run fully each time the exterior for-loop iterates:"
   ]
  },
  {
   "cell_type": "code",
   "execution_count": 19,
   "id": "055e788f-14f9-4ba8-9e16-c3fba7085812",
   "metadata": {},
   "outputs": [
    {
     "name": "stdout",
     "output_type": "stream",
     "text": [
      "alpha\n",
      "bravo\n",
      "charlie\n"
     ]
    }
   ],
   "source": [
    "my_list = ['alpha', 'bravo', 'charlie']\n",
    "for list_val in my_list:\n",
    "    print(list_val)"
   ]
  },
  {
   "cell_type": "code",
   "execution_count": 20,
   "id": "01a2582a-199e-467d-85e8-ea6525088d5f",
   "metadata": {},
   "outputs": [
    {
     "name": "stdout",
     "output_type": "stream",
     "text": [
      "alpha\n",
      "a\n",
      "l\n",
      "p\n",
      "h\n",
      "a\n",
      "bravo\n",
      "b\n",
      "r\n",
      "a\n",
      "v\n",
      "o\n",
      "charlie\n",
      "c\n",
      "h\n",
      "a\n",
      "r\n",
      "l\n",
      "i\n",
      "e\n"
     ]
    }
   ],
   "source": [
    "my_list = ['alpha', 'bravo', 'charlie']\n",
    "for list_val in my_list:\n",
    "    print(list_val)\n",
    "    for letter in list_val:\n",
    "        print(letter)"
   ]
  },
  {
   "cell_type": "markdown",
   "id": "07c02539-bd03-46e7-b2e7-e4ccb746029c",
   "metadata": {},
   "source": [
    "### Logical Operators\n",
    "\n",
    "- >, <, >=, <=, == (is equal), != (is not equal)\n",
    "- These operators can be used to compare various objects\n",
    "- The output of a logical operation is a Boolean value (`True` or `False`)\n"
   ]
  },
  {
   "cell_type": "code",
   "execution_count": 22,
   "id": "9c1565de-fd71-4ea6-91a6-91a1c68840e0",
   "metadata": {},
   "outputs": [
    {
     "name": "stdout",
     "output_type": "stream",
     "text": [
      "True\n",
      "False\n"
     ]
    }
   ],
   "source": [
    "print(5>3)\n",
    "print(5<3)"
   ]
  },
  {
   "cell_type": "code",
   "execution_count": 30,
   "id": "ea9787ac-8e85-4a93-a8ca-e1bb5b1a8b1f",
   "metadata": {},
   "outputs": [
    {
     "name": "stdout",
     "output_type": "stream",
     "text": [
      "True\n",
      "False\n",
      "True\n",
      "True\n"
     ]
    }
   ],
   "source": [
    "string1 = 'alpha'\n",
    "string2 = 'kilo'\n",
    "string3 = 'alpha'\n",
    "string4 = 'alpaca'\n",
    "\n",
    "print(string1 < string2) # when > or < are used to compare strings, they evaluate alphabetical order\n",
    "\n",
    "print(string3 < string4)\n",
    "\n",
    "print(string1 == string3)\n",
    "\n",
    "print(string1 != string2)"
   ]
  },
  {
   "cell_type": "markdown",
   "id": "3d6533c9-a70b-4630-a229-4c4273c63024",
   "metadata": {},
   "source": [
    "- Using a logical operator to compare two arrays will return another array of the same shape containing Boolean values.\n",
    "    - Each element of the first array will be compared to the corresponding element of the second array"
   ]
  },
  {
   "cell_type": "code",
   "execution_count": 32,
   "id": "ec8d4fb8-e77b-4a87-82f6-73d973f2921e",
   "metadata": {},
   "outputs": [
    {
     "data": {
      "text/plain": [
       "array([False, False, False,  True, False, False])"
      ]
     },
     "execution_count": 32,
     "metadata": {},
     "output_type": "execute_result"
    }
   ],
   "source": [
    "import numpy as np\n",
    "array1 = np.array([1,1,2,3,5,8])\n",
    "array2 = np.array([4,6,6,1,9,8])\n",
    "\n",
    "comparison_array = array1 > array2\n",
    "comparison_array"
   ]
  },
  {
   "cell_type": "code",
   "execution_count": 34,
   "id": "b474cea9-768f-418c-8686-6af9dc54b4bd",
   "metadata": {},
   "outputs": [
    {
     "data": {
      "text/plain": [
       "array([[False, False,  True, False, False, False],\n",
       "       [False, False, False, False,  True,  True]])"
      ]
     },
     "execution_count": 34,
     "metadata": {},
     "output_type": "execute_result"
    }
   ],
   "source": [
    "array_2D_1 = np.array([[1,1,2,3,5,8],[4,6,6,1,9,8]])\n",
    "array_2D_2 = np.array([[5,4,2,7,3,4],[5,3,1,2,9,8]])\n",
    "\n",
    "comparison_array_2D =  array_2D_1 == array_2D_2\n",
    "comparison_array_2D"
   ]
  },
  {
   "cell_type": "markdown",
   "id": "6809051d-b582-498f-86f6-c9318f696740",
   "metadata": {},
   "source": [
    "By applying a Boolean array to another array, you select for True values:"
   ]
  },
  {
   "cell_type": "code",
   "execution_count": 40,
   "id": "0807bb38-0a80-40bc-b20e-5dafaa63645d",
   "metadata": {},
   "outputs": [
    {
     "name": "stdout",
     "output_type": "stream",
     "text": [
      "Original:\n",
      " [[1 1 2 3 5 8]\n",
      " [4 6 6 1 9 8]]\n",
      "Comparison:\n",
      " [[False False  True False False False]\n",
      " [False False False False  True  True]]\n",
      "Output:\n",
      " [2 9 8]\n"
     ]
    }
   ],
   "source": [
    "array_2D_1 = np.array([[1,1,2,3,5,8],[4,6,6,1,9,8]])\n",
    "array_2D_2 = np.array([[5,4,2,7,3,4],[5,3,1,2,9,8]])\n",
    "\n",
    "comparison_array_2D =  array_2D_1 == array_2D_2\n",
    "\n",
    "output_array = array_2D_1[comparison_array_2D]\n",
    "\n",
    "print(\"Original:\\n\",array_2D_1)\n",
    "print(\"Comparison:\\n\",comparison_array_2D)\n",
    "print(\"Output:\\n\",output_array) # This 'applies' the Boolean array to the original array, returning only the\n",
    "                                # values that correspond to \"True\" in comparison_array_2D\n"
   ]
  },
  {
   "cell_type": "markdown",
   "id": "d063dc45-6d6a-4ee6-904f-0deec2111724",
   "metadata": {},
   "source": [
    "### If/else-statements:\n",
    "Use logical operators inside an if-statement to perform an action if a condition is met:"
   ]
  },
  {
   "cell_type": "code",
   "execution_count": 41,
   "id": "50fd6f81-3282-4107-8413-8f866bf1172e",
   "metadata": {},
   "outputs": [
    {
     "name": "stdout",
     "output_type": "stream",
     "text": [
      "X is greater than five\n"
     ]
    }
   ],
   "source": [
    "x = 7\n",
    "if x > 5:\n",
    "    print(\"X is greater than five\")"
   ]
  },
  {
   "cell_type": "markdown",
   "id": "7dbc8789-5745-4543-8c17-9d53ee1897f9",
   "metadata": {},
   "source": [
    "Add an `else` condition to specify what happens if the condition is not met:"
   ]
  },
  {
   "cell_type": "code",
   "execution_count": 42,
   "id": "4d323e70-b7f1-4c16-91a7-630ed259281d",
   "metadata": {},
   "outputs": [
    {
     "name": "stdout",
     "output_type": "stream",
     "text": [
      "X is not greater than five\n"
     ]
    }
   ],
   "source": [
    "x = 3\n",
    "if x > 5:\n",
    "    print(\"X is greater than five\")\n",
    "else:\n",
    "    print(\"X is not greater than five\")"
   ]
  },
  {
   "cell_type": "markdown",
   "id": "2d9c0115-8ec1-4698-ba47-b8cfc6763c46",
   "metadata": {},
   "source": [
    "### in statements:\n",
    "- Evaluate whether an element is in an object"
   ]
  },
  {
   "cell_type": "code",
   "execution_count": 46,
   "id": "8056e06d-ae48-4697-aaa0-609f97bf60c7",
   "metadata": {},
   "outputs": [
    {
     "name": "stdout",
     "output_type": "stream",
     "text": [
      "alpha contains an a\n",
      "kilo has no a\n"
     ]
    }
   ],
   "source": [
    "letter = 'a'\n",
    "string_list = ['alpha', 'kilo']\n",
    "\n",
    "for string in string_list:\n",
    "    if letter in string:\n",
    "        print(string,\"contains an\",letter)\n",
    "    else:\n",
    "        print(string,\"has no\",letter)"
   ]
  },
  {
   "cell_type": "code",
   "execution_count": 48,
   "id": "e24227d8-2ad7-4b2b-88f4-c76f91fff99d",
   "metadata": {},
   "outputs": [
    {
     "name": "stdout",
     "output_type": "stream",
     "text": [
      "True\n",
      "False\n"
     ]
    }
   ],
   "source": [
    "num_list = [0,4,6,1,2]\n",
    "print(4 in num_list)\n",
    "print(3 in num_list)"
   ]
  },
  {
   "cell_type": "markdown",
   "id": "52189c94-fed2-413c-8177-3af2327ab1f5",
   "metadata": {},
   "source": [
    "## Week 5\n",
    "\n",
    "- Define a figure and axes variables:<br><br>\n",
    "    `my_fig = plt.figure()`<br>\n",
    "    `ax = plt.axes()`<br>\n",
    "    `ax.plot(x,y)`<br>\n",
    "    `ax.set_xlabel('horizontal label')`<br>\n",
    "    `ax.set_ylabel('vertical label')`<br>\n",
    "    `ax.set_title('my title')`<br>\n",
    "    `ax.set_xlim(0, 100)`<br>\n",
    "    `ax.axvline(2)`<br>\n",
    "    `ax.axhline(6,color='r')`<br><br>\n",
    "\n",
    "Defining a figure with plt.figure() allows you  to work on multiple figures at one time, each assigned to a different variable, i.e.:\n"
   ]
  },
  {
   "cell_type": "code",
   "execution_count": 21,
   "id": "fcf48cbd-807e-4004-8cac-afe328554826",
   "metadata": {},
   "outputs": [
    {
     "data": {
      "text/plain": [
       "<Figure size 640x480 with 0 Axes>"
      ]
     },
     "metadata": {},
     "output_type": "display_data"
    },
    {
     "data": {
      "text/plain": [
       "<Figure size 640x480 with 0 Axes>"
      ]
     },
     "metadata": {},
     "output_type": "display_data"
    },
    {
     "data": {
      "text/plain": [
       "<Figure size 640x480 with 0 Axes>"
      ]
     },
     "metadata": {},
     "output_type": "display_data"
    }
   ],
   "source": [
    "import matplotlib.pyplot as plt \n",
    "\n",
    "\n",
    "fig1 = plt.figure()\n",
    "fig2 = plt.figure()\n",
    "fig3 = plt.figure()"
   ]
  },
  {
   "cell_type": "markdown",
   "id": "8efd2559-297b-43cd-9bd4-dcc595fb23db",
   "metadata": {},
   "source": [
    "### np.diff()\n",
    "`np.diff` calculates the differences between adjacent values in an array:\n"
   ]
  },
  {
   "cell_type": "code",
   "execution_count": 18,
   "id": "9ae29e28-ae4c-4e43-8c5b-15c93c53f3d5",
   "metadata": {},
   "outputs": [
    {
     "data": {
      "text/plain": [
       "array([0, 1, 1, 2, 3, 5])"
      ]
     },
     "execution_count": 18,
     "metadata": {},
     "output_type": "execute_result"
    }
   ],
   "source": [
    "output = np.diff(np.array([1,1,2,3,5,8,13]))\n",
    "output"
   ]
  },
  {
   "cell_type": "markdown",
   "id": "951ea62c-dfb0-4036-ab0f-d836dd4092f7",
   "metadata": {},
   "source": [
    "(1-1 = 0, 2-1 = 1, 3-2 = 1, etc.)\n",
    "\n",
    "Notice how many values are in each array above. "
   ]
  },
  {
   "cell_type": "markdown",
   "id": "09e25508-308d-4ccb-a38a-26a59bf08af4",
   "metadata": {},
   "source": [
    "### Plotting labels & legends:\n",
    "\n",
    "When you call a plotting function, if you define a label for your line, bar, etc., and call the plt.legend() function, the legend will automatically populate with the labels for each line:\n",
    "\n",
    "`plt.plot(x,y, label = \"my_line\")`<br>\n",
    "`plt.legend()`<br><br>\n",
    "\n",
    "This is particularly useful when plotting many lines. If you have a list of your line names, you can iterate through them with a for-loop:\n",
    "\n",
    "`line_names = [\"line1\", \"line2\" ,\"line3\"]`<br>\n",
    "`for i in lines:`<br>\n",
    "   ` plt.plot(lines[i], label = line_names[i])`<br>\n"
   ]
  },
  {
   "cell_type": "markdown",
   "id": "9f94c2ab-cc6a-407d-9d74-ca1f41b958aa",
   "metadata": {},
   "source": [
    "### While Loops:\n",
    "Format:<br>\n",
    "`while <condition is met>:`<br>\n",
    "`    do function`<br>\n"
   ]
  },
  {
   "cell_type": "code",
   "execution_count": 30,
   "id": "d2becf25-1ad4-4cd9-9015-7abbd1ae810d",
   "metadata": {},
   "outputs": [
    {
     "name": "stdout",
     "output_type": "stream",
     "text": [
      "1\n",
      "2\n",
      "3\n",
      "4\n",
      "5\n",
      "6\n",
      "7\n"
     ]
    }
   ],
   "source": [
    "i = 0\n",
    "while i < 7:\n",
    "    i = i+1\n",
    "    print(i)"
   ]
  },
  {
   "cell_type": "markdown",
   "id": "fe3d96ed-e213-4b3e-8806-8b82ba39e3fd",
   "metadata": {},
   "source": [
    "## Week 6: \n",
    "Subsetting arrays with conditionals:"
   ]
  },
  {
   "cell_type": "code",
   "execution_count": 38,
   "id": "d2c7b2ce-fa78-4609-96be-c6b25c5ece0a",
   "metadata": {},
   "outputs": [
    {
     "name": "stdout",
     "output_type": "stream",
     "text": [
      "[[2 4 1 7]\n",
      " [9 4 7 6]\n",
      " [1 2 1 5]\n",
      " [4 8 8 1]] \n",
      "\n",
      "[[False False False  True]\n",
      " [ True False  True  True]\n",
      " [False False False False]\n",
      " [False  True  True False]] \n",
      "\n",
      "[7 9 7 6 8 8]\n"
     ]
    }
   ],
   "source": [
    "#Define an array\n",
    "arr = np.array([[2,4,1,7],[9,4,7,6],[1,2,1,5],[4,8,8,1]])\n",
    "print(arr, \"\\n\")\n",
    "\n",
    "#Make a selection based on a conditional (values greater than 5)\n",
    "conditional_selection = arr > 5\n",
    "print(conditional_selection, \"\\n\")\n",
    "\n",
    "#Subset the original array with the selection array\n",
    "subset_arr = arr[conditional_selection]\n",
    "print(subset_arr) # This returns an array of all the values from the original array that are greater than 5\n"
   ]
  },
  {
   "cell_type": "markdown",
   "id": "cc30ce5c-ec2f-4530-99c1-a927ecb42d91",
   "metadata": {},
   "source": [
    "### np.argmax(), np.argmin(), np.argsort()"
   ]
  },
  {
   "cell_type": "code",
   "execution_count": 47,
   "id": "51700575-39a0-4c6f-8b69-b6a8f91f0568",
   "metadata": {},
   "outputs": [
    {
     "data": {
      "text/plain": [
       "4"
      ]
     },
     "execution_count": 47,
     "metadata": {},
     "output_type": "execute_result"
    }
   ],
   "source": [
    "np.argmax(arr) # Returns the index of the max value in an array (reads a 2D array like 1D), \n",
    "                #i.e. the 4th index is the first value of the second row"
   ]
  },
  {
   "cell_type": "code",
   "execution_count": 58,
   "id": "3767afd9-0d04-42e0-93f2-28fda533a967",
   "metadata": {},
   "outputs": [
    {
     "data": {
      "text/plain": [
       "array([3, 0, 3, 1])"
      ]
     },
     "execution_count": 58,
     "metadata": {},
     "output_type": "execute_result"
    }
   ],
   "source": [
    "np.argmax(arr, axis = 1) # gives the index of the max value for each row"
   ]
  },
  {
   "cell_type": "code",
   "execution_count": 42,
   "id": "0a20d3bb-d642-4196-b08c-c1e8204f742f",
   "metadata": {},
   "outputs": [
    {
     "data": {
      "text/plain": [
       "array([1, 3, 3, 0])"
      ]
     },
     "execution_count": 42,
     "metadata": {},
     "output_type": "execute_result"
    }
   ],
   "source": [
    "np.argmax(arr, axis = 0) # gives the index of the max value for each column"
   ]
  },
  {
   "cell_type": "markdown",
   "id": "8b4ab3ee-ba79-483e-90e7-bba4a29d1aec",
   "metadata": {},
   "source": [
    "np.argmin() behaves the same, but finds the index of the min\n",
    "\n",
    "np.argsort() returns the indexes of the array if it were to be sorted:"
   ]
  },
  {
   "cell_type": "code",
   "execution_count": 50,
   "id": "27071975-14f1-4aa1-bfa1-e938fdaa267c",
   "metadata": {},
   "outputs": [
    {
     "name": "stdout",
     "output_type": "stream",
     "text": [
      "[2 4 1 7]\n",
      "[2 0 1 3]\n"
     ]
    }
   ],
   "source": [
    "print(arr[0])\n",
    "print(np.argsort(arr[0]))"
   ]
  },
  {
   "cell_type": "markdown",
   "id": "69d95d7b-2ddd-49bd-8e16-7f21ef9254c9",
   "metadata": {},
   "source": [
    "Read this as: the sorted order of the first row is the `[2]` value, then the `[0]` value, then the `[1]` value, then the `[3]` value.\n",
    "\n",
    "A for-loop to demonstrate:"
   ]
  },
  {
   "cell_type": "code",
   "execution_count": 52,
   "id": "93bc129d-56f8-45b7-81b2-9b611cb75804",
   "metadata": {},
   "outputs": [
    {
     "name": "stdout",
     "output_type": "stream",
     "text": [
      "1\n",
      "2\n",
      "4\n",
      "7\n"
     ]
    }
   ],
   "source": [
    "for i in np.argsort(arr[0]):\n",
    "    print(arr[0,i])\n",
    "    "
   ]
  },
  {
   "cell_type": "markdown",
   "id": "5d6c49c1-bd47-475e-85fc-0fa96a2fab81",
   "metadata": {},
   "source": [
    "### Creating subplots:\n",
    "\n",
    " - Defining figure and figuresize <br> \n",
    "     `fig=plt.figure(figsize=(10,3))`\n",
    " - Making subplots:<br>\n",
    "```\n",
    "fig,ax=plt.subplots()\n",
    "fig, (ax1,ax2)=plt.subplots(1,2)\n",
    "fig.savefig('myfig.pdf')\n",
    "```\n",
    " - [Methods of the axis class:](https://matplotlib.org/stable/api/axes_api.html)\n",
    " ```\n",
    " ax.xticks\n",
    " ax.yticks\n",
    " ax.set_ylim\n",
    " ax.set_xlim\n",
    " ax.xticklabels\n",
    " ax.yticklabels\n",
    " ax.text\n",
    " ax.spines\n",
    " ax.set_aspect\n",
    " ```\n",
    " - Useful reference:\n",
    "    [Matplotlib Gallery examples](https://matplotlib.org/stable/gallery/index.html)<br> For instance,\n",
    "    [subplots example](https://matplotlib.org/stable/gallery/subplots_axes_and_figures/figure_title.html#sphx-glr-gallery-subplots-axes-and-figures-figure-title-py)"
   ]
  },
  {
   "cell_type": "code",
   "execution_count": 53,
   "id": "ff72ea86-b33f-47a4-b1e8-816868f6990e",
   "metadata": {},
   "outputs": [
    {
     "data": {
      "image/png": "[encoded data removed]",
      "text/plain": [
       "<Figure size 640x480 with 3 Axes>"
      ]
     },
     "metadata": {},
     "output_type": "display_data"
    }
   ],
   "source": [
    "import numpy as np\n",
    "import matplotlib.pyplot as plt\n",
    "\n",
    "arr1 = np.array([[1,2,3,4,5],[5,7,2,5,5]])\n",
    "arr2 = np.array([[1,2,3,4,5],[1,1,5,9,9]])\n",
    "\n",
    "\n",
    "fig, ax = plt.subplots(1,3) # Defines a new figure and axes, gives dimensions for subplot grid: 1 row, 2 columns\n",
    "ax[0].scatter(arr1[0],arr1[1])\n",
    "ax[1].scatter(arr2[0],arr2[1])\n",
    "ax[2].scatter(arr1[0],arr1[1])\n",
    "ax[2].scatter(arr2[0],arr2[1])\n",
    "ax[0].set_ylabel('y axis')\n",
    "for axis in ax:\n",
    "    axis.set_xlim(-1,10)\n",
    "    axis.set_ylim(0,10)\n",
    "    axis.set_xlabel('x axis')\n",
    "    axis.spines['top'].set_visible(False)\n",
    "    axis.spines['right'].set_visible(False)\n",
    "for i in range(1,3):\n",
    "    ax[i].spines['top'].set_visible(False)\n",
    "    ax[i].spines['right'].set_visible(False)\n",
    "    ax[i].spines['left'].set_visible(False)\n",
    "    ax[i].set_yticks([])\n",
    "fig.tight_layout() # Generic statement for keeping labels and axes from overlapping\n"
   ]
  },
  {
   "cell_type": "markdown",
   "id": "24a8872c-bcb4-4e64-b69a-978e7eaf332c",
   "metadata": {},
   "source": [
    "### Dictionaries:\n",
    "\n",
    "Creating a dictionary"
   ]
  },
  {
   "cell_type": "code",
   "execution_count": 8,
   "id": "159783c3-4418-4fdc-b0b4-5f7e240ff505",
   "metadata": {},
   "outputs": [
    {
     "data": {
      "text/plain": [
       "{'key1': 'value1'}"
      ]
     },
     "execution_count": 8,
     "metadata": {},
     "output_type": "execute_result"
    }
   ],
   "source": [
    "new_dict = {} # Start with an empty dict and add key-value pairs to it\n",
    "new_dict['key1'] = 'value1' # Call a value by 'indexing' the dictionary by its key\n",
    "\n",
    "new_dict"
   ]
  },
  {
   "cell_type": "code",
   "execution_count": 10,
   "id": "649c2532-db14-4cd9-bba7-7b074fa7df52",
   "metadata": {},
   "outputs": [
    {
     "data": {
      "text/plain": [
       "{'key1': 'value1', 'key2': 'value2'}"
      ]
     },
     "execution_count": 10,
     "metadata": {},
     "output_type": "execute_result"
    }
   ],
   "source": [
    "# Read in a dict from lists\n",
    "key_list = ['key1', 'key2']\n",
    "value_list = ['value1', 'value2']\n",
    "\n",
    "new_dict = {}\n",
    "for i in range(0,len(key_list)):\n",
    "    new_dict[key_list[i]] = value_list[i]\n",
    "    \n",
    "new_dict"
   ]
  },
  {
   "cell_type": "code",
   "execution_count": 13,
   "id": "c1547c79-92bf-4f52-9ddb-bee896265c5a",
   "metadata": {},
   "outputs": [
    {
     "name": "stdout",
     "output_type": "stream",
     "text": [
      "{'key1': 'value1', 'key2': 'value2'}\n",
      "dict_keys(['key1', 'key2'])\n",
      "dict_values(['value1', 'value2'])\n"
     ]
    }
   ],
   "source": [
    "# Zip two lists into a dict:\n",
    "key_list = ['key1', 'key2']\n",
    "value_list = ['value1', 'value2']\n",
    "\n",
    "new_dict = dict(zip(key_list, value_list))\n",
    "print(new_dict)\n",
    "\n",
    "# Return a dictionary's keys\n",
    "print(new_dict.keys())\n",
    "\n",
    "# Return a dictionary's values\n",
    "\n",
    "print(new_dict.values())"
   ]
  },
  {
   "cell_type": "markdown",
   "id": "61578d90-a56e-40fa-9942-ecfb5a17d3da",
   "metadata": {},
   "source": [
    "### Complex dictionaries:\n",
    "\n",
    "Dictionary values can be complex objects:\n"
   ]
  },
  {
   "cell_type": "code",
   "execution_count": 51,
   "id": "84247aa3-7f64-4dbf-906d-3985f46ba6e8",
   "metadata": {},
   "outputs": [
    {
     "name": "stdout",
     "output_type": "stream",
     "text": [
      "{'plants': ['maple', 'pine', 'snowberry'], 'fungi': ['amanita', 'morel']}\n",
      "snowberry\n"
     ]
    }
   ],
   "source": [
    "# Dictionary of lists\n",
    "my_dict = {'plants': ['maple', 'pine', 'snowberry'], 'fungi': ['amanita', 'morel']}\n",
    "print(my_dict)\n",
    "print(my_dict['plants'][2]) # Index a complex dictionary with a series of [ ] brackets"
   ]
  },
  {
   "cell_type": "code",
   "execution_count": 30,
   "id": "9817a24d-856d-4a21-9249-d62d8876eb7d",
   "metadata": {},
   "outputs": [
    {
     "name": "stdout",
     "output_type": "stream",
     "text": [
      "{'plants': {'angiosperm': 'maple', 'confier': 'pine'}, 'fungi': {'basidio': 'amanita', 'asco': 'morchella'}}\n",
      "morchella\n"
     ]
    }
   ],
   "source": [
    "# Dictionary of dictionaries\n",
    "my_dict = {'plants': {'angiosperm':'maple', 'confier':'pine'}, 'fungi': {'basidio': 'amanita', 'asco': 'morchella'}}\n",
    "print(my_dict)\n",
    "print(my_dict['fungi']['asco'])"
   ]
  },
  {
   "cell_type": "code",
   "execution_count": 52,
   "id": "bb26a78d-a000-48d3-bd61-ea91065ba834",
   "metadata": {},
   "outputs": [
    {
     "name": "stdout",
     "output_type": "stream",
     "text": [
      "Level 1: plants\n",
      "Level 2: angiosperm\n",
      "Level 3: maple\n",
      "Level 2: confier\n",
      "Level 3: pine\n",
      "Level 1: fungi\n",
      "Level 2: basidio\n",
      "Level 3: amanita\n",
      "Level 2: asco\n",
      "Level 3: morchella\n"
     ]
    }
   ],
   "source": [
    "# Iterate through a dictionary\n",
    "my_dict = {'plants': {'angiosperm':'maple', 'confier':'pine'}, 'fungi': {'basidio': 'amanita', 'asco': 'morchella'}}\n",
    "\n",
    "for key in my_dict:\n",
    "    print(\"Level 1:\", key)\n",
    "    for x in my_dict[key]:\n",
    "        print(\"Level 2:\", x)\n",
    "        print(\"Level 3:\", my_dict[key][x])\n",
    "            "
   ]
  },
  {
   "cell_type": "markdown",
   "id": "cc6c0878-cfcc-4d9f-9c9f-534d53d7db86",
   "metadata": {},
   "source": [
    "## Week 8\n",
    "- Python shell script\n",
    "    - Create a python file in JupyterLab: Launcher > Other > Python file\n",
    "    - Write your script and save it as a .py file\n",
    "    - Run your file from the shell with `python my_script_name.py`\n",
    "- ipython\n",
    "    - Opens a python environment in the command line\n",
    "    - Code in python directly on the command line\n",
    "    - Run a python script file with `run my_script_name.py`\n",
    "\n"
   ]
  },
  {
   "cell_type": "markdown",
   "id": "ea93c14d-2b73-4f96-abbc-30a5f6bbb792",
   "metadata": {},
   "source": [
    "## Week 9\n",
    "\n",
    "- Read a file in as text:<br>\n",
    "`file_object = open('file_name', 'r')  #'r' indicates 'read'`\n",
    "- Close file:<br>\n",
    "`file_object.close()`\n",
    "\n",
    "- Idiomatic syntax, which automatically closes the file:\n",
    "```\n",
    "with open('file_name') as file_object:\n",
    "    for each_line in file_object:\n",
    "        print(each_line)\n",
    "```\n",
    "<br>\n",
    "- Open a file for writing:<br>\n",
    "`output_file = open('file_name', 'w')   #'w' indicates 'write'`\n",
    "```\n",
    "with open('output_file_name', 'w') as output_file:\n",
    "    output_file.write(each_line) \n",
    "    output_file.write(each_line + '\\n')  #Writes out a line with a 'newline' character at the end\n",
    "```\n",
    "<br>\n",
    "- Strip unwanted characters off a line\n",
    "```\n",
    "line.strip()\n",
    "line.strip('\\n')\n",
    "```\n",
    "<br>\n",
    "- Split lines into components, returns a list of words:\n",
    "```\n",
    "line.split()\n",
    "line.split(' ') #Split on spaces\n",
    "```\n",
    "<br>"
   ]
  },
  {
   "cell_type": "code",
   "execution_count": null,
   "id": "5a502c42-2964-4c9f-9a04-fc4def262755",
   "metadata": {},
   "outputs": [],
   "source": []
  }
 ],
 "metadata": {
  "kernelspec": {
   "display_name": "Python 3 (ipykernel)",
   "language": "python",
   "name": "python3"
  },
  "language_info": {
   "codemirror_mode": {
    "name": "ipython",
    "version": 3
   },
   "file_extension": ".py",
   "mimetype": "text/x-python",
   "name": "python",
   "nbconvert_exporter": "python",
   "pygments_lexer": "ipython3",
   "version": "3.8.13"
  }
 },
 "nbformat": 4,
 "nbformat_minor": 5
}
